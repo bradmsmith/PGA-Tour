{
 "cells": [
  {
   "cell_type": "markdown",
   "metadata": {},
   "source": [
    "## Merging the Data "
   ]
  },
  {
   "cell_type": "code",
   "execution_count": 60,
   "metadata": {},
   "outputs": [],
   "source": [
    "# Importing packages\n",
    "import numpy as np\n",
    "import pandas as pd\n",
    "from functools import reduce"
   ]
  },
  {
   "cell_type": "code",
   "execution_count": 61,
   "metadata": {},
   "outputs": [],
   "source": [
    "# Importing the data sets\n",
    "driving_accuracy = pd.read_csv('/Users/jpar746/Desktop/Work/PGA Tour/drivingAccuracy.csv')\n",
    "driving_distance = pd.read_csv('/Users/jpar746/Desktop/Work/PGA Tour/drivingDistance.csv')\n",
    "green_in_regulation = pd.read_csv('/Users/jpar746/Desktop/Work/PGA Tour/greenInRegulation.csv')\n",
    "money = pd.read_csv('/Users/jpar746/Desktop/Work/PGA Tour/money.csv')\n",
    "putts_round = pd.read_csv('/Users/jpar746/Desktop/Work/PGA Tour/puttPerRound.csv')\n",
    "scoring_average = pd.read_csv('/Users/jpar746/Desktop/Work/PGA Tour/scoringAverage.csv')\n",
    "scrambling = pd.read_csv('/Users/jpar746/Desktop/Work/PGA Tour/scrambling.csv')\n",
    "points = pd.read_csv('/Users/jpar746/Desktop/Work/PGA Tour/seasonPoints.csv')\n",
    "sgPutting = pd.read_csv('/Users/jpar746/Desktop/Work/PGA Tour/sgPutting.csv')\n",
    "sgTeeGreen = pd.read_csv('/Users/jpar746/Desktop/Work/PGA Tour/sgTeeToGreen.csv')\n",
    "sgTotal = pd.read_csv('/Users/jpar746/Desktop/Work/PGA Tour/sgTotal.csv')\n"
   ]
  },
  {
   "cell_type": "code",
   "execution_count": 62,
   "metadata": {},
   "outputs": [
    {
     "name": "stdout",
     "output_type": "stream",
     "text": [
      "      Player Name  Rounds_x  Fairway Percentage Fairways Hit  \\\n",
      "0  Henrik Stenson      60.0               75.19          591   \n",
      "1     Ryan Armour     109.0               73.58        1,103   \n",
      "2     Chez Reavie      93.0               72.24          869   \n",
      "3      Ryan Moore      78.0               71.94          787   \n",
      "4    Brian Stuard     103.0               71.44          968   \n",
      "\n",
      "  Possible Fairways  Year Rank this week Rank last week  Rounds_y  Average  \\\n",
      "0               786  2018            139            139      60.0    291.5   \n",
      "1             1,499  2018            185            185     109.0    283.5   \n",
      "2             1,203  2018           T173           T173      93.0    286.5   \n",
      "3             1,094  2018            163            163      78.0    289.2   \n",
      "4             1,355  2018            193            193     103.0    278.9   \n",
      "\n",
      "       ...      MEASURED ROUNDS_x  Rounds  Average SG Total  TOTAL SG:T  \\\n",
      "0      ...                   44.0    60.0             1.153      50.738   \n",
      "1      ...                   96.0   109.0             0.337      32.370   \n",
      "2      ...                   60.0    93.0             0.674      40.453   \n",
      "3      ...                   66.0    78.0             0.941      62.090   \n",
      "4      ...                   88.0   103.0             0.062       5.481   \n",
      "\n",
      "  TOTAL SG:T2G TOTAL SG:P  MEASURED ROUNDS_y  Events_y       Money  \\\n",
      "0       59.828     -9.091               44.0      16.0  $2,680,487   \n",
      "1       37.915     -5.545               96.0      32.0  $2,485,203   \n",
      "2       28.956     11.495               60.0      28.0  $2,700,018   \n",
      "3       79.953    -17.863               66.0      22.0  $1,986,608   \n",
      "4       -8.920     14.398               88.0      32.0  $1,089,763   \n",
      "\n",
      "  YTD Victories  \n",
      "0           NaN  \n",
      "1           1.0  \n",
      "2           NaN  \n",
      "3           NaN  \n",
      "4           NaN  \n",
      "\n",
      "[5 rows x 54 columns]\n"
     ]
    }
   ],
   "source": [
    "# Merging\n",
    "combined = [driving_accuracy, driving_distance, green_in_regulation, putts_round,\n",
    "            scrambling, scoring_average, points, sgPutting, sgTeeGreen, sgTotal, money]\n",
    "\n",
    "\n",
    "df = reduce(lambda  left,right: pd.merge(left,right,on=['Player Name','Year'],\n",
    "                                         how='outer'), combined)\n",
    "print(df.head())"
   ]
  },
  {
   "cell_type": "code",
   "execution_count": 63,
   "metadata": {},
   "outputs": [
    {
     "name": "stdout",
     "output_type": "stream",
     "text": [
      "Index(['Player Name', 'Rounds_x', 'Fairway Percentage', 'Fairways Hit',\n",
      "       'Possible Fairways', 'Year', 'Rank this week', 'Rank last week',\n",
      "       'Rounds_y', 'Average', 'Total Distance', 'Total Drives', 'Rounds_x',\n",
      "       'Green In Regulation Percentage', 'Greens Hit', 'Holes', 'Relative/Par',\n",
      "       'Rounds_y', 'Average Putts', 'Total Putts', 'Total Rounds_x',\n",
      "       'Low Total Putts', 'Rounds_x', 'Average Scrambling', 'Par or Better',\n",
      "       'Missed GIR', 'Rounds_y', 'Average Score', 'Total Strokes',\n",
      "       'Total Adjustment', 'Total Rounds_y', 'Events_x', 'Points', '# of Wins',\n",
      "       '# of Top 10', 'Rounds_x', 'Average SG Putts', 'Total SG:Putts',\n",
      "       'Measured Rounds', 'Rounds_y', 'Average SG', 'SG:OTT', 'SG:APR',\n",
      "       'SG:ARG', 'MEASURED ROUNDS_x', 'Rounds', 'Average SG Total',\n",
      "       'TOTAL SG:T', 'TOTAL SG:T2G', 'TOTAL SG:P', 'MEASURED ROUNDS_y',\n",
      "       'Events_y', 'Money', 'YTD Victories'],\n",
      "      dtype='object')\n"
     ]
    }
   ],
   "source": [
    "# Cleaning the Merged Data \n",
    "print(df.columns)"
   ]
  },
  {
   "cell_type": "code",
   "execution_count": 64,
   "metadata": {},
   "outputs": [
    {
     "name": "stdout",
     "output_type": "stream",
     "text": [
      "      Player Name  Rounds  Fairway Percentage  Year  Avg Distance    gir  \\\n",
      "0  Henrik Stenson    60.0               75.19  2018         291.5  73.51   \n",
      "1     Ryan Armour   109.0               73.58  2018         283.5  68.22   \n",
      "2     Chez Reavie    93.0               72.24  2018         286.5  68.67   \n",
      "3      Ryan Moore    78.0               71.94  2018         289.2  68.80   \n",
      "4    Brian Stuard   103.0               71.44  2018         278.9  67.12   \n",
      "\n",
      "   Average Putts  Average Scrambling  Average Score Points  Wins  Top 10  \\\n",
      "0          29.93               60.67         69.617    868   NaN     5.0   \n",
      "1          29.31               60.13         70.758  1,006   1.0     3.0   \n",
      "2          29.12               62.27         70.432  1,020   NaN     3.0   \n",
      "3          29.17               64.16         70.015    795   NaN     5.0   \n",
      "4          29.11               59.23         71.038    421   NaN     3.0   \n",
      "\n",
      "   Average SG Putts  Average SG Total  SG:OTT  SG:APR  SG:ARG       Money  \n",
      "0            -0.207             1.153   0.427   0.960  -0.027  $2,680,487  \n",
      "1            -0.058             0.337  -0.012   0.213   0.194  $2,485,203  \n",
      "2             0.192             0.674   0.183   0.437  -0.137  $2,700,018  \n",
      "3            -0.271             0.941   0.406   0.532   0.273  $1,986,608  \n",
      "4             0.164             0.062  -0.227   0.099   0.026  $1,089,763  \n"
     ]
    }
   ],
   "source": [
    "# Removing unnecessary columns \n",
    "df = df[['Player Name','Rounds','Fairway Percentage','Year',\n",
    "              'Average','Green In Regulation Percentage','Average Putts',\n",
    "              'Average Scrambling','Average Score','Points','# of Wins',\n",
    "              '# of Top 10','Average SG Putts','Average SG Total', 'SG:OTT','SG:APR',\n",
    "              'SG:ARG','Money']]\n",
    "\n",
    "df.columns.values[4] = 'Avg Distance'\n",
    "df.columns.values[5] = 'gir'\n",
    "df.columns.values[10] = 'Wins'\n",
    "df.columns.values[11] = 'Top 10'\n",
    "print(df.head())"
   ]
  },
  {
   "cell_type": "code",
   "execution_count": 65,
   "metadata": {},
   "outputs": [],
   "source": [
    "# Exporting the merged dataframe \n",
    "export_csv = df.to_csv(r'/Users/jpar746/Desktop/Work/PGA Tour/pgaTourData.csv', index = None, header=True)\n"
   ]
  },
  {
   "cell_type": "code",
   "execution_count": null,
   "metadata": {},
   "outputs": [],
   "source": []
  }
 ],
 "metadata": {
  "kernelspec": {
   "display_name": "Python 3",
   "language": "python",
   "name": "python3"
  },
  "language_info": {
   "codemirror_mode": {
    "name": "ipython",
    "version": 3
   },
   "file_extension": ".py",
   "mimetype": "text/x-python",
   "name": "python",
   "nbconvert_exporter": "python",
   "pygments_lexer": "ipython3",
   "version": "3.7.0"
  }
 },
 "nbformat": 4,
 "nbformat_minor": 2
}
